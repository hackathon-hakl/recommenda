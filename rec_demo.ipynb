{
 "cells": [
  {
   "cell_type": "code",
   "execution_count": null,
   "id": "77f76815",
   "metadata": {},
   "outputs": [],
   "source": [
    "from recommender import Recommender, RuleBasedRecommender\n",
    "from API import get_all_location_ids, get_all_sport_ids, api, base_id"
   ]
  },
  {
   "cell_type": "code",
   "execution_count": null,
   "id": "04738c76",
   "metadata": {},
   "outputs": [],
   "source": [
    "database_path = \"user_clicks.json\""
   ]
  },
  {
   "cell_type": "code",
   "execution_count": null,
   "id": "1938f773",
   "metadata": {},
   "outputs": [],
   "source": [
    "sports_ids = get_all_sport_ids(api, base_id)\n",
    "locations_ids = get_all_location_ids(api, base_id)"
   ]
  },
  {
   "cell_type": "code",
   "execution_count": null,
   "id": "e3d38b7d",
   "metadata": {},
   "outputs": [],
   "source": [
    "#recommender.get_homepage_recommendations('demo_user_1745665596', )\n",
    "recommender = Recommender(database_path, sports_ids, locations_ids)\n",
    "similar_users = recommender._get_similar_users('user_1745697147')\n",
    "print(f\"Similar users : {similar_users}\")"
   ]
  },
  {
   "cell_type": "code",
   "execution_count": null,
   "id": "e2bfcf23",
   "metadata": {},
   "outputs": [],
   "source": [
    "recomendended = recommender._get_upcoming_events('demo_user_1745674562_9', similar_users, 5)"
   ]
  },
  {
   "cell_type": "code",
   "execution_count": null,
   "id": "eb9d3ec8",
   "metadata": {},
   "outputs": [],
   "source": [
    "recomendended"
   ]
  },
  {
   "cell_type": "code",
   "execution_count": null,
   "id": "25390635",
   "metadata": {},
   "outputs": [],
   "source": [
    "recommender.get_real_time_match_recommendations('demo_user_1745674557_8', limit = 6)"
   ]
  },
  {
   "cell_type": "code",
   "execution_count": null,
   "id": "16660c50",
   "metadata": {},
   "outputs": [],
   "source": [
    "from click_tracker import ClickTracker\n",
    "sports_ids = get_all_sport_ids(api, base_id)\n",
    "locations_ids = get_all_location_ids(api, base_id)\n",
    "\n",
    "click_tracker = ClickTracker(database_path)\n"
   ]
  },
  {
   "cell_type": "code",
   "execution_count": null,
   "id": "6bd38463",
   "metadata": {},
   "outputs": [],
   "source": [
    "click_tracker.track_sport_click('demo_user_1745665596', 'recGfphnFce1DEBhE')"
   ]
  },
  {
   "cell_type": "code",
   "execution_count": null,
   "id": "8e419145",
   "metadata": {},
   "outputs": [],
   "source": [
    "ruler = RuleBasedRecommender()"
   ]
  },
  {
   "cell_type": "code",
   "execution_count": null,
   "id": "c582f268",
   "metadata": {},
   "outputs": [],
   "source": [
    "ruler.get_user_recommendations(\n",
    "   group_style = \"GROUP\", \n",
    "   activities = [\"RUNNING\", \"JUMPING\"], \n",
    "   age_group = 'ADULTS'\n",
    ")"
   ]
  },
  {
   "cell_type": "code",
   "execution_count": null,
   "id": "b3ae768e",
   "metadata": {},
   "outputs": [],
   "source": [
    "user_data = {\n",
    "   \"user_name\": f\"{1}_updated\",\n",
    "   \"age\": \"ADULTS\",\n",
    "   \"group_style\": \"TEAM\",\n",
    "   \"activities\": [\"RUNNING\", \"STRENGTH_AND_ENDURANCE\", ],\n",
    "   \"city\": \"zagreb\",\n",
    "   \"district\": \"trnje\",\n",
    "   \"sport_interests\": [\"recGfphnFce1DEBhE\"],  # Tennis sport ID\n",
    "   \"event_type_priority\": [\"match\", \"tournament\"]\n",
    "}"
   ]
  },
  {
   "cell_type": "code",
   "execution_count": null,
   "id": "54b33d04",
   "metadata": {},
   "outputs": [],
   "source": [
    "from recommender import *"
   ]
  },
  {
   "cell_type": "code",
   "execution_count": null,
   "id": "eb46f8d5",
   "metadata": {},
   "outputs": [],
   "source": [
    "group_style_enum = GroupSportType[user_data['group_style'].upper()] if user_data['group_style'] else GroupSportType.DEFAULT\n",
    "age_group_enum = AgeGroup[user_data['age'].upper()] if user_data['age'] else AgeGroup.ADULTS\n",
    "activity_enums = []\n",
    "for activity in user_data['activities']:\n",
    "   activity_enums.append(ActivitiesEnjoyed[activity.upper()])"
   ]
  },
  {
   "cell_type": "code",
   "execution_count": null,
   "id": "3a9f6af8",
   "metadata": {},
   "outputs": [],
   "source": [
    "recommended_sport = ruler.get_user_recommendations(\n",
    "   group_style=group_style_enum,\n",
    "   activities=activity_enums,\n",
    "   age_group=age_group_enum\n",
    ")"
   ]
  },
  {
   "cell_type": "code",
   "execution_count": null,
   "id": "a1c18f25",
   "metadata": {},
   "outputs": [],
   "source": [
    "recommended_sport"
   ]
  }
 ],
 "metadata": {
  "kernelspec": {
   "display_name": "Python 3",
   "language": "python",
   "name": "python3"
  },
  "language_info": {
   "codemirror_mode": {
    "name": "ipython",
    "version": 3
   },
   "file_extension": ".py",
   "mimetype": "text/x-python",
   "name": "python",
   "nbconvert_exporter": "python",
   "pygments_lexer": "ipython3",
   "version": "3.11.5"
  }
 },
 "nbformat": 4,
 "nbformat_minor": 5
}
